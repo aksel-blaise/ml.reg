{
 "cells": [
  {
   "cell_type": "markdown",
   "source": [
    "# Gary dart points\n"
   ],
   "metadata": {
    "collapsed": false
   }
  },
  {
   "cell_type": "code",
   "execution_count": 1,
   "outputs": [],
   "source": [
    "# import libraries\n",
    "import pandas as pd\n",
    "%matplotlib inline\n",
    "import seaborn as sns\n",
    "import matplotlib.pyplot as plt\n",
    "from sklearn.model_selection import train_test_split\n",
    "from sklearn.neighbors import KNeighborsClassifier\n",
    "from sklearn import metrics"
   ],
   "metadata": {
    "collapsed": false,
    "pycharm": {
     "name": "#%%\n"
    }
   }
  },
  {
   "cell_type": "markdown",
   "source": [
    "### read metrics"
   ],
   "metadata": {
    "collapsed": false,
    "pycharm": {
     "name": "#%% md\n"
    }
   },
   "execution_count": 1
  },
  {
   "cell_type": "code",
   "execution_count": 2,
   "outputs": [
    {
     "data": {
      "text/plain": "   spec   maxl   maxw  maxth  maxstl  maxstw    site tv.assigned\n0  1.88  50.19  34.90  12.90   14.60   20.54  Miller         uid\n1  1.89  41.04  18.88  12.60   13.66   13.28  Miller         uid\n2     2  34.16  14.94   5.85   12.33   10.57  Miller       Emory\n3     4  31.83  20.73   6.17    7.91   14.15  Miller         uid\n4     6  47.87  30.50  15.61   19.90   23.36  Miller        Alsa",
      "text/html": "<div>\n<style scoped>\n    .dataframe tbody tr th:only-of-type {\n        vertical-align: middle;\n    }\n\n    .dataframe tbody tr th {\n        vertical-align: top;\n    }\n\n    .dataframe thead th {\n        text-align: right;\n    }\n</style>\n<table border=\"1\" class=\"dataframe\">\n  <thead>\n    <tr style=\"text-align: right;\">\n      <th></th>\n      <th>spec</th>\n      <th>maxl</th>\n      <th>maxw</th>\n      <th>maxth</th>\n      <th>maxstl</th>\n      <th>maxstw</th>\n      <th>site</th>\n      <th>tv.assigned</th>\n    </tr>\n  </thead>\n  <tbody>\n    <tr>\n      <th>0</th>\n      <td>1.88</td>\n      <td>50.19</td>\n      <td>34.90</td>\n      <td>12.90</td>\n      <td>14.60</td>\n      <td>20.54</td>\n      <td>Miller</td>\n      <td>uid</td>\n    </tr>\n    <tr>\n      <th>1</th>\n      <td>1.89</td>\n      <td>41.04</td>\n      <td>18.88</td>\n      <td>12.60</td>\n      <td>13.66</td>\n      <td>13.28</td>\n      <td>Miller</td>\n      <td>uid</td>\n    </tr>\n    <tr>\n      <th>2</th>\n      <td>2</td>\n      <td>34.16</td>\n      <td>14.94</td>\n      <td>5.85</td>\n      <td>12.33</td>\n      <td>10.57</td>\n      <td>Miller</td>\n      <td>Emory</td>\n    </tr>\n    <tr>\n      <th>3</th>\n      <td>4</td>\n      <td>31.83</td>\n      <td>20.73</td>\n      <td>6.17</td>\n      <td>7.91</td>\n      <td>14.15</td>\n      <td>Miller</td>\n      <td>uid</td>\n    </tr>\n    <tr>\n      <th>4</th>\n      <td>6</td>\n      <td>47.87</td>\n      <td>30.50</td>\n      <td>15.61</td>\n      <td>19.90</td>\n      <td>23.36</td>\n      <td>Miller</td>\n      <td>Alsa</td>\n    </tr>\n  </tbody>\n</table>\n</div>"
     },
     "execution_count": 2,
     "metadata": {},
     "output_type": "execute_result"
    }
   ],
   "source": [
    "gary = pd.read_csv('garysite.csv')\n",
    "gary.head()"
   ],
   "metadata": {
    "collapsed": false,
    "pycharm": {
     "name": "#%%\n"
    }
   }
  },
  {
   "cell_type": "markdown",
   "source": [
    "### select features and response"
   ],
   "metadata": {
    "collapsed": false
   }
  },
  {
   "cell_type": "code",
   "execution_count": 3,
   "outputs": [
    {
     "data": {
      "text/plain": "<bound method NDFrame.head of 0      0\n1      0\n2      0\n3      0\n4      0\n      ..\n913    2\n914    2\n915    2\n916    2\n917    2\nName: site_num, Length: 918, dtype: int64>"
     },
     "execution_count": 3,
     "metadata": {},
     "output_type": "execute_result"
    }
   ],
   "source": [
    "# attributes for analysis\n",
    "feature_cols = ['maxl', 'maxw', 'maxth', 'maxstl', 'maxstw']\n",
    "X = gary[feature_cols]\n",
    "\n",
    "# cast from string to int\n",
    "site_num = {'Miller':0, 'Yar':1, 'Pov Pt':2, 'Cooper':3, 'Means':4}\n",
    "gary['site_num'] = gary.site.map(site_num)\n",
    "gary.head()\n",
    "y = gary.site_num\n",
    "y.head"
   ],
   "metadata": {
    "collapsed": false,
    "pycharm": {
     "name": "#%%\n"
    }
   }
  },
  {
   "cell_type": "markdown",
   "source": [
    "### split data for train/test"
   ],
   "metadata": {
    "collapsed": false
   }
  },
  {
   "cell_type": "code",
   "execution_count": 4,
   "outputs": [
    {
     "name": "stdout",
     "output_type": "stream",
     "text": [
      "(688, 5)\n",
      "(230, 5)\n",
      "(688,)\n",
      "(230,)\n"
     ]
    }
   ],
   "source": [
    "# split data into train/test sets (80/20 split)\n",
    "from sklearn.model_selection import train_test_split\n",
    "X_train, X_test, y_train, y_test = train_test_split(X, y)\n",
    "\n",
    "print(X_train.shape)\n",
    "print(X_test.shape)\n",
    "print(y_train.shape)\n",
    "print(y_test.shape)"
   ],
   "metadata": {
    "collapsed": false,
    "pycharm": {
     "name": "#%%\n"
    }
   }
  },
  {
   "cell_type": "markdown",
   "source": [
    "### fit model on training set"
   ],
   "metadata": {
    "collapsed": false
   }
  },
  {
   "cell_type": "code",
   "execution_count": 5,
   "outputs": [
    {
     "data": {
      "text/plain": "KNeighborsClassifier(n_neighbors=1)"
     },
     "execution_count": 5,
     "metadata": {},
     "output_type": "execute_result"
    }
   ],
   "source": [
    "# instantiate estimator\n",
    "knn = KNeighborsClassifier(n_neighbors = 1)\n",
    "knn.fit(X_train, y_train)"
   ],
   "metadata": {
    "collapsed": false,
    "pycharm": {
     "name": "#%%\n"
    }
   }
  },
  {
   "cell_type": "markdown",
   "source": [
    "### make predictions + evaluate accuracy"
   ],
   "metadata": {
    "collapsed": false
   }
  },
  {
   "cell_type": "code",
   "execution_count": 6,
   "outputs": [
    {
     "name": "stdout",
     "output_type": "stream",
     "text": [
      "0.6739130434782609\n"
     ]
    }
   ],
   "source": [
    "y_pred = knn.predict(X_test)\n",
    "\n",
    "print(metrics.accuracy_score(y_test, y_pred))\n",
    "\n"
   ],
   "metadata": {
    "collapsed": false,
    "pycharm": {
     "name": "#%%\n"
    }
   }
  }
 ],
 "metadata": {
  "kernelspec": {
   "display_name": "Python 3",
   "language": "python",
   "name": "python3"
  },
  "language_info": {
   "codemirror_mode": {
    "name": "ipython",
    "version": 2
   },
   "file_extension": ".py",
   "mimetype": "text/x-python",
   "name": "python",
   "nbconvert_exporter": "python",
   "pygments_lexer": "ipython2",
   "version": "2.7.6"
  }
 },
 "nbformat": 4,
 "nbformat_minor": 0
}