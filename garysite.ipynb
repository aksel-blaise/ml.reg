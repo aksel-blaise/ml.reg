{
 "cells": [
  {
   "cell_type": "markdown",
   "metadata": {},
   "source": [
    "# Gary dart points"
   ]
  },
  {
   "cell_type": "code",
   "execution_count": 1,
   "metadata": {
    "collapsed": false,
    "jupyter": {
     "outputs_hidden": false
    },
    "pycharm": {
     "name": "#%%\n"
    }
   },
   "outputs": [
    {
     "data": {
      "text/plain": "     spec   maxl   maxw  maxth  maxstl  maxstw    site region\n0   fs101  69.48  26.90   7.55    9.23   16.52  Cooper   east\n1  fs1035  50.10  25.60   8.01   20.97   20.57  Cooper   east\n2   fs109  57.72  28.70   9.54   11.01   19.01  Cooper   east\n3   fs110  67.60  48.98  10.35   18.00   27.24  Cooper   east\n4   fs112  35.73  22.53   8.00   14.16   15.20  Cooper   east",
      "text/html": "<div>\n<style scoped>\n    .dataframe tbody tr th:only-of-type {\n        vertical-align: middle;\n    }\n\n    .dataframe tbody tr th {\n        vertical-align: top;\n    }\n\n    .dataframe thead th {\n        text-align: right;\n    }\n</style>\n<table border=\"1\" class=\"dataframe\">\n  <thead>\n    <tr style=\"text-align: right;\">\n      <th></th>\n      <th>spec</th>\n      <th>maxl</th>\n      <th>maxw</th>\n      <th>maxth</th>\n      <th>maxstl</th>\n      <th>maxstw</th>\n      <th>site</th>\n      <th>region</th>\n    </tr>\n  </thead>\n  <tbody>\n    <tr>\n      <th>0</th>\n      <td>fs101</td>\n      <td>69.48</td>\n      <td>26.90</td>\n      <td>7.55</td>\n      <td>9.23</td>\n      <td>16.52</td>\n      <td>Cooper</td>\n      <td>east</td>\n    </tr>\n    <tr>\n      <th>1</th>\n      <td>fs1035</td>\n      <td>50.10</td>\n      <td>25.60</td>\n      <td>8.01</td>\n      <td>20.97</td>\n      <td>20.57</td>\n      <td>Cooper</td>\n      <td>east</td>\n    </tr>\n    <tr>\n      <th>2</th>\n      <td>fs109</td>\n      <td>57.72</td>\n      <td>28.70</td>\n      <td>9.54</td>\n      <td>11.01</td>\n      <td>19.01</td>\n      <td>Cooper</td>\n      <td>east</td>\n    </tr>\n    <tr>\n      <th>3</th>\n      <td>fs110</td>\n      <td>67.60</td>\n      <td>48.98</td>\n      <td>10.35</td>\n      <td>18.00</td>\n      <td>27.24</td>\n      <td>Cooper</td>\n      <td>east</td>\n    </tr>\n    <tr>\n      <th>4</th>\n      <td>fs112</td>\n      <td>35.73</td>\n      <td>22.53</td>\n      <td>8.00</td>\n      <td>14.16</td>\n      <td>15.20</td>\n      <td>Cooper</td>\n      <td>east</td>\n    </tr>\n  </tbody>\n</table>\n</div>"
     },
     "execution_count": 1,
     "metadata": {},
     "output_type": "execute_result"
    }
   ],
   "source": [
    "# load analysis packages\n",
    "import pandas as pd\n",
    "%matplotlib inline\n",
    "from sklearn.model_selection import train_test_split\n",
    "from sklearn.preprocessing import StandardScaler\n",
    "from sklearn.model_selection import cross_val_score\n",
    "from sklearn.linear_model import LogisticRegression\n",
    "from sklearn import metrics\n",
    "\n",
    "# read data\n",
    "data = pd.read_csv('garysite.csv')\n",
    "data.head()"
   ]
  },
  {
   "cell_type": "markdown",
   "metadata": {},
   "source": [
    "### select features and response"
   ]
  },
  {
   "cell_type": "code",
   "execution_count": 2,
   "metadata": {
    "collapsed": false,
    "jupyter": {
     "outputs_hidden": false
    },
    "pycharm": {
     "name": "#%%\n"
    }
   },
   "outputs": [],
   "source": [
    "# attributes for analysis\n",
    "feature_cols = ['maxl', 'maxw', 'maxth', 'maxstl', 'maxstw']\n",
    "X = data[feature_cols]\n",
    "\n",
    "# cast from string to int\n",
    "reg_num = {'east':0, 'west':1}\n",
    "data['reg_num'] = data.region.map(reg_num)\n",
    "data.head()\n",
    "y = data.reg_num"
   ]
  },
  {
   "cell_type": "markdown",
   "metadata": {
    "pycharm": {
     "name": "#%% md\n"
    }
   },
   "source": [
    "### ensure that features and responses are numeric"
   ]
  },
  {
   "cell_type": "code",
   "execution_count": 3,
   "metadata": {
    "collapsed": false,
    "jupyter": {
     "outputs_hidden": false
    },
    "pycharm": {
     "name": "#%%\n"
    }
   },
   "outputs": [
    {
     "data": {
      "text/plain": "maxl      float64\nmaxw      float64\nmaxth     float64\nmaxstl    float64\nmaxstw    float64\ndtype: object"
     },
     "execution_count": 3,
     "metadata": {},
     "output_type": "execute_result"
    }
   ],
   "source": [
    "X.dtypes"
   ]
  },
  {
   "cell_type": "code",
   "execution_count": 4,
   "metadata": {
    "collapsed": false,
    "jupyter": {
     "outputs_hidden": false
    },
    "pycharm": {
     "name": "#%%\n"
    }
   },
   "outputs": [
    {
     "data": {
      "text/plain": "dtype('int64')"
     },
     "execution_count": 4,
     "metadata": {},
     "output_type": "execute_result"
    }
   ],
   "source": [
    "y.dtypes"
   ]
  },
  {
   "cell_type": "markdown",
   "metadata": {
    "pycharm": {
     "name": "#%% md\n"
    }
   },
   "source": [
    "### split data for train/test"
   ]
  },
  {
   "cell_type": "code",
   "execution_count": 5,
   "metadata": {
    "collapsed": false,
    "jupyter": {
     "outputs_hidden": false
    },
    "pycharm": {
     "name": "#%%\n"
    }
   },
   "outputs": [
    {
     "name": "stdout",
     "output_type": "stream",
     "text": [
      "(688, 5)\n",
      "(230, 5)\n",
      "(688,)\n",
      "(230,)\n"
     ]
    }
   ],
   "source": [
    "# split data into train/test sets (80/20 split)\n",
    "X_train, X_test, y_train, y_test = train_test_split(X, y)\n",
    "\n",
    "print(X_train.shape)\n",
    "print(X_test.shape)\n",
    "print(y_train.shape)\n",
    "print(y_test.shape)"
   ]
  },
  {
   "cell_type": "markdown",
   "source": [
    "### decrease sensitivity of algorithm to outliers through standardizing features"
   ],
   "metadata": {
    "collapsed": false
   }
  },
  {
   "cell_type": "code",
   "execution_count": 6,
   "outputs": [],
   "source": [
    "stdsc = StandardScaler()\n",
    "X_train_std = stdsc.fit_transform(X_train)\n",
    "X_test_std = stdsc.transform(X_test)"
   ],
   "metadata": {
    "collapsed": false,
    "pycharm": {
     "name": "#%%\n"
    }
   }
  },
  {
   "cell_type": "markdown",
   "source": [
    "### k-fold cross validation of training dataset"
   ],
   "metadata": {
    "collapsed": false
   }
  },
  {
   "cell_type": "code",
   "execution_count": 7,
   "outputs": [
    {
     "name": "stdout",
     "output_type": "stream",
     "text": [
      "[0.82608696 0.80434783 0.89130435 0.84782609 0.84782609 0.84782609\n",
      " 0.86956522 0.82608696 0.86956522 0.84782609 0.86956522 0.93478261\n",
      " 0.82608696 0.8        0.82222222]\n",
      "0.8487278582930758 0.03377216642105189\n"
     ]
    }
   ],
   "source": [
    "logreg = LogisticRegression()\n",
    "scores = cross_val_score(estimator = logreg, X = X_train_std, y = y_train,\n",
    "                         cv = 15, n_jobs = 1)\n",
    "print(scores)\n",
    "print(scores.mean(), scores.std())"
   ],
   "metadata": {
    "collapsed": false,
    "pycharm": {
     "name": "#%%\n"
    }
   }
  },
  {
   "cell_type": "markdown",
   "metadata": {},
   "source": [
    "### fit model on training set"
   ]
  },
  {
   "cell_type": "code",
   "execution_count": 8,
   "metadata": {
    "collapsed": false,
    "jupyter": {
     "outputs_hidden": false
    },
    "pycharm": {
     "name": "#%%\n"
    }
   },
   "outputs": [
    {
     "data": {
      "text/plain": "LogisticRegression()"
     },
     "execution_count": 8,
     "metadata": {},
     "output_type": "execute_result"
    }
   ],
   "source": [
    "# instantiate estimator\n",
    "logreg = LogisticRegression()\n",
    "logreg.fit(X_train, y_train)"
   ]
  },
  {
   "cell_type": "markdown",
   "metadata": {},
   "source": [
    "### make predictions + evaluate accuracy"
   ]
  },
  {
   "cell_type": "code",
   "execution_count": 9,
   "metadata": {
    "collapsed": false,
    "jupyter": {
     "outputs_hidden": false
    },
    "pycharm": {
     "name": "#%%\n"
    }
   },
   "outputs": [
    {
     "name": "stdout",
     "output_type": "stream",
     "text": [
      "0.8652173913043478\n"
     ]
    }
   ],
   "source": [
    "y_pred = logreg.predict(X_test)\n",
    "\n",
    "print(metrics.accuracy_score(y_test, y_pred))"
   ]
  }
 ],
 "metadata": {
  "kernelspec": {
   "display_name": "Python 3",
   "language": "python",
   "name": "python3"
  },
  "language_info": {
   "codemirror_mode": {
    "name": "ipython",
    "version": 3
   },
   "file_extension": ".py",
   "mimetype": "text/x-python",
   "name": "python",
   "nbconvert_exporter": "python",
   "pygments_lexer": "ipython3",
   "version": "3.8.8"
  }
 },
 "nbformat": 4,
 "nbformat_minor": 4
}